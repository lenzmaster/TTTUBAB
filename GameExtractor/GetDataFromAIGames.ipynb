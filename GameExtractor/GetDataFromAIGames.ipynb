{
 "cells": [
  {
   "cell_type": "markdown",
   "metadata": {},
   "source": [
    "3. april 2016\n",
    "\n",
    "'wir sind die coolsten wenn wir cruisen wenn wir durch die city düsen'\n",
    "\n",
    "- Andre Lenz, Sommer 2009\n",
    "\n",
    "\n",
    "Alle daten holen von theaiGames.com \n",
    "\n",
    "- verbindung mit urllib\n",
    "- datenholen mit beautiful soup\n",
    "- abspeichern in pandas dataframe mit multiindex\n",
    "- exportieren als pickle zur wiederverwendung\n",
    "\n"
   ]
  },
  {
   "cell_type": "code",
   "execution_count": 1,
   "metadata": {
    "collapsed": false
   },
   "outputs": [
    {
     "data": {
      "text/html": [
       "<style>.container { width:90% !important; }</style>"
      ],
      "text/plain": [
       "<IPython.core.display.HTML object>"
      ]
     },
     "execution_count": 1,
     "metadata": {},
     "output_type": "execute_result"
    }
   ],
   "source": [
    "from IPython.core.display import HTML\n",
    "HTML(\"<style>.container { width:90% !important; }</style>\")"
   ]
  },
  {
   "cell_type": "code",
   "execution_count": 1,
   "metadata": {
    "collapsed": false
   },
   "outputs": [],
   "source": [
    "import pandas as pd\n",
    "from pandas.io.json import json_normalize\n",
    "import numpy as np\n",
    "import urllib.request\n",
    "from bs4 import BeautifulSoup\n",
    "import pylab"
   ]
  },
  {
   "cell_type": "code",
   "execution_count": 2,
   "metadata": {
    "collapsed": true
   },
   "outputs": [],
   "source": [
    "frames = {}\n",
    "gameDict = {}\n",
    "fieldDict = {}\n",
    "sites = [] #collection of games links\n",
    "playerLinks = [] # collect links of specific player, temp\n",
    "player1 = []\n",
    "player2 = []\n",
    "playerTags = []\n",
    "desiredBots = ['Jyzaya_Ultimate']\n",
    "numberOfSites = 2 #7 # how many pages of games to download\n",
    "a = 15 # number of games finally extraxted if not all"
   ]
  },
  {
   "cell_type": "code",
   "execution_count": 9,
   "metadata": {
    "collapsed": false
   },
   "outputs": [
    {
     "name": "stdout",
     "output_type": "stream",
     "text": [
      "Jyzaya_Ultimate1\n"
     ]
    }
   ],
   "source": [
    "#%%time\n",
    "#Get the Bots game links\n",
    "\n",
    "for bot in desiredBots:\n",
    "    \n",
    "    for i in range(1, numberOfSites):\n",
    "        print(bot + str(i))\n",
    "        connectionString = 'http://theaigames.com/competitions/ultimate-tic-tac-toe/game-log/'+ bot + '/' + str(i)\n",
    "        try:\n",
    "            connection = urllib.request.urlopen(connectionString)\n",
    "            soup = BeautifulSoup(connection, \"lxml\")\n",
    "            for link in soup.findAll('a'): \n",
    "                link = link.get('href')\n",
    "                if link.startswith('http://theaigames.com/competitions/ultimate-tic-tac-toe/games/') == True:\n",
    "                    playerLinks.append(link) #write all game links to one array\n",
    "\n",
    "            \n",
    "            if len(playerLinks) == 0:\n",
    "                break\n",
    "            playerTagsOnSite = soup.find_all(attrs={'class': 'div-botName-gameLog'})\n",
    "            playerTags = playerTags + playerTagsOnSite\n",
    "            sites = sites + playerLinks\n",
    "            playerLinks = []\n",
    "\n",
    "        except:\n",
    "            print(\"Conection failed for bot and Site: \" + bot + '/' + str(i))\n",
    "        finally:\n",
    "            connection.close\n",
    "        \n",
    "            \n",
    "#10, 7 sec mit 2 seiten und 1 boti\n",
    "\n"
   ]
  },
  {
   "cell_type": "code",
   "execution_count": 11,
   "metadata": {
    "collapsed": false
   },
   "outputs": [
    {
     "name": "stdout",
     "output_type": "stream",
     "text": [
      "Done\n",
      "Done\n",
      "Done\n",
      "Done\n",
      "Done\n",
      "Done\n",
      "Done\n",
      "Done\n",
      "Done\n",
      "Done\n",
      "Done\n",
      "Done\n",
      "Done\n",
      "Done\n",
      "Done\n",
      "Done\n",
      "Done\n",
      "Done\n",
      "Done\n",
      "Done\n",
      "Done\n",
      "Done\n",
      "Done\n",
      "Done\n",
      "Done\n",
      "Done\n",
      "Done\n",
      "Done\n",
      "Done\n",
      "Done\n",
      "Done\n",
      "Done\n",
      "Done\n",
      "Done\n",
      "Done\n",
      "Done\n",
      "Done\n",
      "Done\n",
      "Done\n",
      "Done\n",
      "Done\n",
      "Done\n",
      "Done\n",
      "Done\n",
      "Done\n",
      "Done\n",
      "Done\n",
      "Done\n",
      "Done\n",
      "Done\n",
      "Done\n",
      "Done\n",
      "Done\n",
      "Done\n",
      "Done\n",
      "Done\n",
      "Done\n",
      "Done\n",
      "Done\n",
      "Done\n",
      "Done\n",
      "Done\n",
      "Done\n",
      "Done\n",
      "Done\n",
      "Done\n",
      "Done\n",
      "Done\n",
      "Done\n",
      "Done\n",
      "Done\n",
      "Done\n",
      "Done\n",
      "Done\n",
      "Done\n",
      "Done\n",
      "Done\n",
      "Done\n",
      "Done\n",
      "Done\n",
      "Done\n",
      "Done\n",
      "Done\n",
      "Done\n",
      "Done\n",
      "Done\n",
      "Done\n",
      "Done\n",
      "Done\n",
      "Done\n",
      "Done\n",
      "Done\n",
      "Done\n",
      "Done\n",
      "Done\n",
      "Done\n",
      "Done\n",
      "Done\n",
      "Done\n",
      "Done\n"
     ]
    }
   ],
   "source": [
    "# differentiate for player 1 or 2 in a list with same lenght as game link list\n",
    "c = 0\n",
    "for playerTag in playerTags:\n",
    "    if (c%2 == 0):\n",
    "        tempPlayer = playerTag.getText('div-botName-gameLog')\n",
    "        tempPlayer = tempPlayer.strip()\n",
    "        player1.append(tempPlayer)\n",
    "    else:\n",
    "        tempPlayer = playerTag.getText('div-botName-gameLog')\n",
    "        tempPlayer = tempPlayer.strip()\n",
    "        player2.append(tempPlayer)\n",
    "    c += 1\n",
    "    print(\"Done\")\n",
    "\n"
   ]
  },
  {
   "cell_type": "code",
   "execution_count": 12,
   "metadata": {
    "collapsed": false
   },
   "outputs": [
    {
     "name": "stdout",
     "output_type": "stream",
     "text": [
      "done\n"
     ]
    }
   ],
   "source": [
    "# dataframe für alle games anlegen\n",
    "\n",
    "Games = {'site': sites, 'player1': player1, 'player2':player2}\n",
    "Games = pd.DataFrame(Games)\n",
    "print(\"done\")"
   ]
  },
  {
   "cell_type": "code",
   "execution_count": 13,
   "metadata": {
    "collapsed": false
   },
   "outputs": [],
   "source": [
    "#%%time\n",
    "# spieldaten holen von webseite und in 3 verschiedene Dataframes setzten\n",
    "\n",
    "\n",
    "for site in sites[:a]: # pro game etwa 15 secunden\n",
    "    siteData = site + '/data'\n",
    "    ttt = pd.read_json(siteData, typ = 'series')\n",
    "    mmm = json_normalize(ttt['settings'])\n",
    "    ttt = json_normalize(ttt['states'])\n",
    "    fff = ttt.field\n",
    "    ttt = ttt.replace('', np.nan)\n",
    "    ttt.winner =ttt.winner.fillna(method = 'bfill')\n",
    "    ttt.illegalMove = ttt.illegalMove.fillna('')\n",
    "    frames[site] = ttt\n",
    "    gameDict[site] = mmm\n",
    "    fieldDict[site] = fff"
   ]
  },
  {
   "cell_type": "code",
   "execution_count": 14,
   "metadata": {
    "collapsed": true
   },
   "outputs": [],
   "source": [
    "Field = pd.concat(fieldDict)\n",
    "Field = pd.DataFrame(Field)"
   ]
  },
  {
   "cell_type": "code",
   "execution_count": 15,
   "metadata": {
    "collapsed": false
   },
   "outputs": [],
   "source": [
    "Games = pd.concat(gameDict)\n",
    "Games['player1'] = player1[:a]\n",
    "Games['player2'] = player2[:a]\n"
   ]
  },
  {
   "cell_type": "code",
   "execution_count": 16,
   "metadata": {
    "collapsed": true
   },
   "outputs": [],
   "source": [
    "#create dataframe of all moves\n",
    "moves = pd.concat(frames)"
   ]
  },
  {
   "cell_type": "code",
   "execution_count": 31,
   "metadata": {
    "collapsed": false
   },
   "outputs": [],
   "source": [
    "# abschpeichern als pickle in windows oder linux\n",
    "Games.to_pickle('games-2016-04-13.pkl')\n",
    "moves.to_pickle('moves-2016-04-13.pkl')\n",
    "Field.to_pickle('field-2016-04-13.pkl')\n",
    "#games.to_pickle('C:\\Users\\User\\Desktop\\Statistics\\TicTacToe\\games.pkl')-"
   ]
  }
 ],
 "metadata": {
  "kernelspec": {
   "display_name": "Python 3",
   "language": "python",
   "name": "python3"
  },
  "language_info": {
   "codemirror_mode": {
    "name": "ipython",
    "version": 3
   },
   "file_extension": ".py",
   "mimetype": "text/x-python",
   "name": "python",
   "nbconvert_exporter": "python",
   "pygments_lexer": "ipython3",
   "version": "3.4.3"
  }
 },
 "nbformat": 4,
 "nbformat_minor": 0
}
