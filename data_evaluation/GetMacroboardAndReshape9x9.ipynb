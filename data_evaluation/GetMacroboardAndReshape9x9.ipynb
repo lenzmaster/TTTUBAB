{
 "cells": [
  {
   "cell_type": "code",
   "execution_count": 211,
   "metadata": {
    "collapsed": false
   },
   "outputs": [],
   "source": [
    "#imports\n",
    "import numpy as np\n",
    "import pandas as pd\n",
    "import os.path\n",
    "import pprint as pp\n",
    "from sklearn import ensemble\n",
    "import datetime"
   ]
  },
  {
   "cell_type": "code",
   "execution_count": 2,
   "metadata": {
    "collapsed": true
   },
   "outputs": [],
   "source": [
    "#get data\n",
    "pathToFiles = \"..\\\\data_preperation\\\\\" # windows path, escaped backslash\n",
    "folderCleaned = \"cleaned\\\\\"\n",
    "\n",
    "games = pd.read_pickle(pathToFiles + folderCleaned + \"merge_all_game-data.pkl\")\n",
    "games_data = pd.read_pickle(pathToFiles + folderCleaned + \"merge_all_games.pkl\")"
   ]
  },
  {
   "cell_type": "code",
   "execution_count": 3,
   "metadata": {
    "collapsed": false
   },
   "outputs": [],
   "source": [
    "#join the two game datasets\n",
    "games_with_reset_index = games.reset_index(level= 1)\n",
    "full_games = games_with_reset_index.join(games_data, how = 'right', lsuffix= \"_\")"
   ]
  },
  {
   "cell_type": "code",
   "execution_count": 4,
   "metadata": {
    "collapsed": true
   },
   "outputs": [],
   "source": [
    "availableMoves =pd.Series(full_games.available_moves)"
   ]
  },
  {
   "cell_type": "code",
   "execution_count": 73,
   "metadata": {
    "collapsed": false
   },
   "outputs": [],
   "source": [
    "# reshape the field in 9,9 for human convenience\n",
    "newField = []\n",
    "newAvailable_Moves = []\n",
    "for feld in full_games.field:\n",
    "    x = feld.reshape(9,9)\n",
    "    newField.append(x)\n",
    "fieldSeries = pd.Series(newField)\n",
    "\n",
    "for j in range(0, len(availableMoves)):# manchmal steht da nur ein leeres objekt weil es beim letzen zug keine\n",
    "    if (isinstance(availableMoves.iloc[j], np.ndarray)):\n",
    "        x = availableMoves.iloc[j].reshape(9,9)\n",
    "        newAvailable_Moves.append(x)\n",
    "    else:\n",
    "        newAvailable_Moves.append(np.NaN)\n",
    "availableSeries = pd.Series(newAvailable_Moves)"
   ]
  },
  {
   "cell_type": "code",
   "execution_count": 202,
   "metadata": {
    "collapsed": false
   },
   "outputs": [],
   "source": [
    "#erstellt ein 3x3 macroboard, erst die funktionen aktivieren\n",
    "macroBoards = []\n",
    "for k in range(0, len(availableMoves)):\n",
    "    if (isinstance(availableMoves.iloc[k], np.ndarray)):\n",
    "        macroBoard = feature_MicroboardWinningMove(field= fieldSeries.iloc[k], _availableMoves= availableSeries.iloc[k])\n",
    "        macroBoards.append(macroBoard)\n",
    "    else:\n",
    "        macroBoards.append(np.NaN)\n",
    "full_games['MacroBoard'] = macroBoards"
   ]
  },
  {
   "cell_type": "code",
   "execution_count": 194,
   "metadata": {
    "collapsed": false
   },
   "outputs": [],
   "source": [
    "# erstellt ein 3x3 macroboard aus den derzeitigen daten\n",
    "def microBoardWon(vonX, bisX, vonY, bisY, macroX, macroY, _availableMoves, macroBoard):\n",
    "    if (_availableMoves[vonX:bisX, vonY:bisY] == 17).any(): #wenn irgendwo eine 17 in diesem microboard steht hat player 1 das micro gewonnen\n",
    "        macroBoard[macroX, macroY] = 1\n",
    "    elif (_availableMoves[vonX:bisY, vonX:bisY] == 33).any():# same für player 2 mit 33\n",
    "        macroBoard[macroX, macroY] = 2\n",
    "    else:\n",
    "        macroBoard[macroX, macroY] = 0\n",
    "def feature_MicroboardWinningMove(field, _availableMoves):\n",
    "    macroBoard = np.zeros((3,3))\n",
    "    fieldIsNotPlayable = np.NaN\n",
    "    winsMicroboardPlayer1 = \"1\"\n",
    "    winsMicroboardPlayer2 = \"2\"\n",
    "    winsNoOne = \"0\"\n",
    "    # ich hätte das gerne in der schleife aber ich weiß nicht genau wie, deswegen hir die gleiche version 9 mal\n",
    "    microBoardWon(0,3,0,3, 0,0,_availableMoves,macroBoard)\n",
    "    microBoardWon(0,3,3,6, 0,1,_availableMoves,macroBoard)\n",
    "    microBoardWon(0,3,6,9, 0,2,_availableMoves,macroBoard)\n",
    "    microBoardWon(3,6,0,3, 1,0,_availableMoves,macroBoard)\n",
    "    microBoardWon(3,6,3,6, 1,1,_availableMoves,macroBoard)\n",
    "    microBoardWon(3,6,6,9, 1,2,_availableMoves,macroBoard)\n",
    "    microBoardWon(6,9,0,3, 2,0,_availableMoves,macroBoard)\n",
    "    microBoardWon(6,9,3,6, 2,1,_availableMoves,macroBoard)\n",
    "    microBoardWon(6,9,6,9, 2,2,_availableMoves,macroBoard)\n",
    "    return macroBoard\n"
   ]
  },
  {
   "cell_type": "code",
   "execution_count": 212,
   "metadata": {
    "collapsed": true
   },
   "outputs": [],
   "source": [
    "# ich speichere das jetzt einfahc mal als pickle, und öffne dann ein neues programm zum featuere extrakten\n",
    "date = datetime.datetime.now()\n",
    "full_games.to_pickle(str(date.date()) + '_joinedGames.pkl')"
   ]
  }
 ],
 "metadata": {
  "kernelspec": {
   "display_name": "Python 3",
   "language": "python",
   "name": "python3"
  },
  "language_info": {
   "codemirror_mode": {
    "name": "ipython",
    "version": 3
   },
   "file_extension": ".py",
   "mimetype": "text/x-python",
   "name": "python",
   "nbconvert_exporter": "python",
   "pygments_lexer": "ipython3",
   "version": "3.5.1"
  }
 },
 "nbformat": 4,
 "nbformat_minor": 0
}
