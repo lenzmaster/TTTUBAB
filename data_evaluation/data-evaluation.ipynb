{
 "cells": [
  {
   "cell_type": "code",
   "execution_count": 1,
   "metadata": {
    "collapsed": true
   },
   "outputs": [],
   "source": [
    "# Imports\n",
    "import pandas as pd\n",
    "import os.path\n",
    "import numpy as np\n",
    "import pprint as pp"
   ]
  },
  {
   "cell_type": "code",
   "execution_count": 9,
   "metadata": {
    "collapsed": false
   },
   "outputs": [],
   "source": [
    "# Setup parameters\n",
    "pathToFiles = \"../data_preperation/\"# os.path.expanduser(\"~\") + \"/TTTUBAB/GameExtractor/\"\n",
    "folderCleaned = \"cleaned/\"\n",
    "dateOfCreation = \"2016-04-13\"\n",
    "nameOfBot = \"HalesJewett\"\n",
    "startStateStr = \"0,0,0,0,0,0,0,0,0,0,0,0,0,0,0,0,0,0,0,0,0,0,0,0,0,0,0,0,0,0,0,0,0,0,0,0,0,0,0,0,0,0,0,0,0,0,0,0,0,0,0,0,0,0,0,0,0,0,0,0,0,0,0,0,0,0,0,0,0,0,0,0,0,0,0,0,0,0,0,0,0\"\n",
    "startState = np.fromstring(startStateStr, dtype=int, sep=',')\n",
    "\n",
    "gameNoCol = \"game_no\"\n",
    "moveNoCol = \"move_no\"\n",
    "availableMovesCol = \"available_moves\"\n",
    "performedMoveCol = \"move_performed\""
   ]
  },
  {
   "cell_type": "code",
   "execution_count": 7,
   "metadata": {
    "collapsed": false
   },
   "outputs": [],
   "source": [
    "#Read data\n",
    "gamesNew = pd.read_pickle(pathToFiles + folderCleaned + \"c_\" + dateOfCreation + \"_\" + nameOfBot + \"_games.pkl\" )\n",
    "gameData = pd.read_pickle(pathToFiles + folderCleaned + \"c_\" + dateOfCreation + \"_\" + nameOfBot + \"_game-data.pkl\" )\n"
   ]
  },
  {
   "cell_type": "code",
   "execution_count": 10,
   "metadata": {
    "collapsed": false
   },
   "outputs": [
    {
     "name": "stdout",
     "output_type": "stream",
     "text": [
      "array([[ 0.5       ,  0.        ,         nan,         nan,         nan,\n",
      "                nan,         nan,         nan,         nan],\n",
      "       [        nan,  0.        ,         nan,         nan,  0.        ,\n",
      "                nan,         nan,         nan,         nan],\n",
      "       [        nan,         nan,         nan,         nan,         nan,\n",
      "                nan,         nan,         nan,         nan],\n",
      "       [        nan,         nan,         nan,  0.        ,  0.        ,\n",
      "                nan,  0.        ,         nan,         nan],\n",
      "       [        nan,         nan,         nan,         nan,  0.64885496,\n",
      "                nan,         nan,         nan,         nan],\n",
      "       [ 0.        ,         nan,         nan,         nan,         nan,\n",
      "                nan,         nan,         nan,         nan],\n",
      "       [        nan,         nan,         nan,         nan,         nan,\n",
      "                nan,         nan,         nan,         nan],\n",
      "       [        nan,  0.        ,         nan,         nan,         nan,\n",
      "         0.        ,         nan,  0.        ,         nan],\n",
      "       [        nan,         nan,         nan,         nan,         nan,\n",
      "                nan,         nan,         nan,         nan]])\n"
     ]
    }
   ],
   "source": [
    "# Calculate winning and losing percentages in relation to the first move for player 1\n",
    "\n",
    "filter1 = gamesNew[gamesNew[\"winnerplayer\"] == \"player1\"]\n",
    "filter2 = gamesNew[gamesNew[\"winnerplayer\"] == \"player2\"]\n",
    "slicedData1 = gameData[performedMoveCol].loc[(filter1.index.values.tolist()), 0]\n",
    "slicedData2 = gameData[performedMoveCol].loc[(filter2.index.values.tolist()), 0]\n",
    "countArrayWins = np.zeros(81)\n",
    "countArrayLosses = np.zeros(81)\n",
    "\n",
    "for i in slicedData1.index:\n",
    "    countArrayWins += slicedData1.loc[i]\n",
    "for i in slicedData2.index:\n",
    "    countArrayLosses += slicedData2.loc[i]\n",
    "\n",
    "countArrayWinsAndLosses = countArrayWins + countArrayLosses;\n",
    "denominatorWins = np.sum(countArrayWins)\n",
    "denominatorLosses = np.sum(countArrayLosses)\n",
    "\n",
    "#expectation value to win for player 1 depending on his first move\n",
    "result = np.divide(countArrayWins, countArrayWinsAndLosses)\n",
    "\n",
    "#result = countArrayWins/denominatorWins\n",
    "#result = countArrayLosses/denominatorLosses\n",
    "pp.pprint(result.reshape(9,9))\n",
    "#np.argmax(countArrayWins)"
   ]
  },
  {
   "cell_type": "code",
   "execution_count": null,
   "metadata": {
    "collapsed": true
   },
   "outputs": [],
   "source": [
    "# Calculate winning percentages for plaayer1/2\n",
    "totalGames = gamesNew.index.size\n",
    "gamesNew[gamesNew[\"winnerplayer\"] == \"player1\"].index.size / totalGames\n",
    "\n",
    "\n"
   ]
  },
  {
   "cell_type": "code",
   "execution_count": null,
   "metadata": {
    "collapsed": true
   },
   "outputs": [],
   "source": []
  }
 ],
 "metadata": {
  "kernelspec": {
   "display_name": "Python 3",
   "language": "python",
   "name": "python3"
  },
  "language_info": {
   "codemirror_mode": {
    "name": "ipython",
    "version": 3
   },
   "file_extension": ".py",
   "mimetype": "text/x-python",
   "name": "python",
   "nbconvert_exporter": "python",
   "pygments_lexer": "ipython3",
   "version": "3.4.4"
  }
 },
 "nbformat": 4,
 "nbformat_minor": 0
}
