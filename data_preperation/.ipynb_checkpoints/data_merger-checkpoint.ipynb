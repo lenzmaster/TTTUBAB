{
 "cells": [
  {
   "cell_type": "code",
   "execution_count": 2,
   "metadata": {
    "collapsed": true
   },
   "outputs": [],
   "source": [
    "# Imports\n",
    "import pandas as pd\n",
    "import os.path\n",
    "import numpy as np\n",
    "import os\n",
    "import glob\n",
    "import sys\n",
    "\n"
   ]
  },
  {
   "cell_type": "code",
   "execution_count": 3,
   "metadata": {
    "collapsed": false
   },
   "outputs": [],
   "source": [
    "# Load files - Assumption : files are clean\n",
    "\n",
    "# Change to cleaned directory\n",
    "os.chdir('cleaned/')\n",
    "filesGames = glob.glob('*games.pkl')\n",
    "filesGameData = glob.glob('*game-data.pkl')\n",
    "filesGames.sort()\n",
    "filesGameData.sort()\n",
    "\n",
    "gamesList = []\n",
    "gameDataList = []\n",
    "\n",
    "for i in range(len(filesGames)):\n",
    "    gamesList.append(pd.read_pickle(filesGames[i]))\n",
    "    gameDataList.append(pd.read_pickle(filesGameData[i]))\n"
   ]
  },
  {
   "cell_type": "code",
   "execution_count": 4,
   "metadata": {
    "collapsed": false
   },
   "outputs": [],
   "source": [
    "# Merge lists\n",
    "\n",
    "#name of columns\n",
    "linksCol = \"links\"\n",
    "gameNoCol = \"game_no\"\n",
    "moveNoCol = \"move_no\"\n",
    "availableMovesCol = \"available_moves\"\n",
    "performedMoveCol = \"move_performed\"\n",
    "\n",
    "\n",
    "# Set simple index\n",
    "for i in range(len(gameDataList)):\n",
    "    gameDataList[i].reset_index(inplace=True)\n",
    "    #Set links in game data frames --> unecessary now\n",
    "    #gameDataList[i][linksCol] = \"\"\n",
    "    #for j in range(len(gamesList[i])):\n",
    "    #    gameDataList[i].loc[gameDataList[i][gameNoCol] == j, linksCol] = gamesList[i].loc[j][linksCol]\n",
    "\n",
    "#Merge games dataframes\n",
    "gamesAll = pd.concat(gamesList).drop_duplicates(subset=[linksCol]).reset_index(drop=True)\n",
    "\n",
    "#game_no ändern auf Basis des Links\n",
    "\n",
    "\n",
    "gameDataAll = pd.concat(gameDataList).drop_duplicates(subset=[linksCol, moveNoCol]).reset_index(drop=True)\n",
    "#change game_no accordingly to link column\n",
    "for i in range(len(gameDataAll.index)):\n",
    "    gameNo = gamesAll.loc[gamesAll[linksCol] == gameDataAll.loc[i][linksCol]].index.values[0]\n",
    "    gameDataAll.set_value(i, gameNoCol, gameNo)\n",
    "\n",
    "gameDataAll.set_index([gameNoCol, moveNoCol], inplace=True)\n",
    "#gameNo = gamesAll.loc[gamesAll[linksCol] == gameDataAll.loc[12000][linksCol]].index.values[0]\n",
    "#gameNo\n",
    "\n",
    "#gameDataAll"
   ]
  },
  {
   "cell_type": "code",
   "execution_count": 5,
   "metadata": {
    "collapsed": true
   },
   "outputs": [],
   "source": [
    "gamesAll.to_pickle(\"merge_all_games.pkl\")\n",
    "gameDataAll.to_pickle(\"merge_all_game-data.pkl\")"
   ]
  },
  {
   "cell_type": "code",
   "execution_count": 29,
   "metadata": {
    "collapsed": false
   },
   "outputs": [
    {
     "data": {
      "text/plain": [
       "array([ 1,  0,  0,  0,  2,  0,  0,  1,  1,  0,  0,  2,  2,  0,  1,  0,  2,\n",
       "        0,  0,  0,  0,  0,  2,  1,  0,  0,  0,  0,  1,  2,  2,  1,  0, 32,\n",
       "       34, 32,  1,  0,  0,  0,  1,  0, 32, 34, 33,  2,  1,  0,  0,  0,  0,\n",
       "       32, 34, 32,  0,  0,  2,  0,  2,  0,  0,  0,  0,  0,  0,  0,  2,  0,\n",
       "        1,  1,  0,  0,  1,  0,  0,  0,  1,  0,  0,  0,  2])"
      ]
     },
     "execution_count": 29,
     "metadata": {},
     "output_type": "execute_result"
    }
   ],
   "source": [
    "gameDataAll.loc[36558][\"field\"]#[\"move_performed\"]"
   ]
  },
  {
   "cell_type": "code",
   "execution_count": 24,
   "metadata": {
    "collapsed": false
   },
   "outputs": [
    {
     "data": {
      "text/html": [
       "<div>\n",
       "<table border=\"1\" class=\"dataframe\">\n",
       "  <thead>\n",
       "    <tr style=\"text-align: right;\">\n",
       "      <th></th>\n",
       "      <th>game_no</th>\n",
       "      <th>move_no</th>\n",
       "      <th>field</th>\n",
       "      <th>available_moves</th>\n",
       "      <th>move_performed</th>\n",
       "      <th>links</th>\n",
       "    </tr>\n",
       "  </thead>\n",
       "  <tbody>\n",
       "  </tbody>\n",
       "</table>\n",
       "</div>"
      ],
      "text/plain": [
       "Empty DataFrame\n",
       "Columns: [game_no, move_no, field, available_moves, move_performed, links]\n",
       "Index: []"
      ]
     },
     "execution_count": 24,
     "metadata": {},
     "output_type": "execute_result"
    }
   ],
   "source": [
    "gameDataAll.loc[gameDataAll[\"links\"].isnull()]\n",
    "#gameDataAll.loc[gameDataAll[\"move_no\"] == 5]"
   ]
  },
  {
   "cell_type": "code",
   "execution_count": 13,
   "metadata": {
    "collapsed": false
   },
   "outputs": [
    {
     "data": {
      "text/html": [
       "<div>\n",
       "<table border=\"1\" class=\"dataframe\">\n",
       "  <thead>\n",
       "    <tr style=\"text-align: right;\">\n",
       "      <th></th>\n",
       "      <th>level_0</th>\n",
       "      <th>index</th>\n",
       "      <th>game_no</th>\n",
       "      <th>move_no</th>\n",
       "      <th>field</th>\n",
       "      <th>available_moves</th>\n",
       "      <th>move_performed</th>\n",
       "    </tr>\n",
       "  </thead>\n",
       "  <tbody>\n",
       "  </tbody>\n",
       "</table>\n",
       "</div>"
      ],
      "text/plain": [
       "Empty DataFrame\n",
       "Columns: [level_0, index, game_no, move_no, field, available_moves, move_performed]\n",
       "Index: []"
      ]
     },
     "execution_count": 13,
     "metadata": {},
     "output_type": "execute_result"
    }
   ],
   "source": [
    "gameDataTemp = gameDataList[3]\n",
    "gameDataTemp.reset_index(inplace=True)\n",
    "gameDataTemp.loc[gameDataTemp[\"game_no\"].isnull()]\n",
    "#gameDataTemp"
   ]
  },
  {
   "cell_type": "code",
   "execution_count": 9,
   "metadata": {
    "collapsed": false
   },
   "outputs": [],
   "source": [
    "stuff = gameDataAll[performedMoveCol]\n",
    "for i in stuff:\n",
    "    count = 0\n",
    "    for j in i:\n",
    "        count += j\n",
    "        \n",
    "    if count > 2 and count != 17 and count != 34:\n",
    "        print(str(count))"
   ]
  },
  {
   "cell_type": "code",
   "execution_count": null,
   "metadata": {
    "collapsed": true
   },
   "outputs": [],
   "source": []
  }
 ],
 "metadata": {
  "kernelspec": {
   "display_name": "Python 3",
   "language": "python",
   "name": "python3"
  },
  "language_info": {
   "codemirror_mode": {
    "name": "ipython",
    "version": 3
   },
   "file_extension": ".py",
   "mimetype": "text/x-python",
   "name": "python",
   "nbconvert_exporter": "python",
   "pygments_lexer": "ipython3",
   "version": "3.4.4"
  }
 },
 "nbformat": 4,
 "nbformat_minor": 0
}
